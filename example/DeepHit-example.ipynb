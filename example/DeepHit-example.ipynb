{
 "cells": [
  {
   "cell_type": "markdown",
   "metadata": {},
   "source": [
    "# A Tutorial for Package TFCox(DeepHit)\n",
    "\n",
    "## About the Package\n",
    "`TFCox` is a python package for predicting hazard rate with deep learning method in survival \n",
    "analysis. It is developed based on `Tensorflow==1.13.1`. Due to the advent of `Tensorflow2.x`,\n",
    "which deprecates and reintegrates so many modules and APIs in `Tensorflow1.x` so that greater \n",
    "user experience can be achieved, this package is the only version developed by `Tensorflow1.x`. The future version will be developed based on `Tensorflow2.x`. This notebook will show you how to use deep learning in survival analysis.\n",
    "\n",
    "## Installation\n",
    "Please follow the instructions on [README](../README.md) to install `TFCox` package.\n",
    "\n",
    "## Reference\n",
    "This package implements the model `DeepHit` in the paper of Changhee Lee et.al. Please refer to \n",
    "\n",
    "[1] Changhee Lee, William R Zame, Jinsung Yoon, and Mihaela van der Schaar. Deephit: A deep learning approach to survival analysis with competing risks. In Thirty-Second AAAI Conference on Artificial Intelligence, 2018.http://medianetlab.ee.ucla.edu/papers/AAAI_2018_DeepHit"
   ]
  },
  {
   "cell_type": "markdown",
   "metadata": {},
   "source": [
    "## A Simulated Example for DeepHit Using Synthetic Dataset"
   ]
  },
  {
   "cell_type": "markdown",
   "metadata": {},
   "source": [
    "### Load necessary modules"
   ]
  },
  {
   "cell_type": "code",
   "execution_count": 1,
   "metadata": {},
   "outputs": [],
   "source": [
    "import numpy as np\n",
    "import tensorflow as tf\n",
    "from TFCox.models import deephit\n",
    "from TFCox.datasets import from_deephit\n",
    "from TFCox.evals.concordance import c_index_deephit\n",
    "from TFCox.evals.brier_score import brier_score\n",
    "from sklearn.model_selection import train_test_split"
   ]
  },
  {
   "cell_type": "markdown",
   "metadata": {},
   "source": [
    "### Load dataset"
   ]
  },
  {
   "cell_type": "code",
   "execution_count": 2,
   "metadata": {},
   "outputs": [],
   "source": [
    "x_dim, (data, time, label), (mask1, mask2) = from_deephit.load_synthetic(norm_mode='standard')\n",
    "eval_times = [12, 24, 36]\n",
    "_, num_event, num_category = np.shape(mask1)"
   ]
  },
  {
   "cell_type": "code",
   "execution_count": 4,
   "metadata": {},
   "outputs": [
    {
     "data": {
      "text/plain": [
       "array([0, 1, 2], dtype=int64)"
      ]
     },
     "execution_count": 4,
     "metadata": {},
     "output_type": "execute_result"
    }
   ],
   "source": [
    "np.unique(label)"
   ]
  },
  {
   "cell_type": "markdown",
   "metadata": {},
   "source": [
    "The data strcture of Synthetic is shown below. Columns 0 to 11 are covariates. \n",
    "Column 12 is survivial time(including censored times), and column 13 is the competing risks.\n",
    "There are two competing risks, and 0 indicates right censoring."
   ]
  },
  {
   "cell_type": "code",
   "execution_count": 31,
   "metadata": {},
   "outputs": [
    {
     "data": {
      "text/html": [
       "<div>\n",
       "<style scoped>\n",
       "    .dataframe tbody tr th:only-of-type {\n",
       "        vertical-align: middle;\n",
       "    }\n",
       "\n",
       "    .dataframe tbody tr th {\n",
       "        vertical-align: top;\n",
       "    }\n",
       "\n",
       "    .dataframe thead th {\n",
       "        text-align: right;\n",
       "    }\n",
       "</style>\n",
       "<table border=\"1\" class=\"dataframe\">\n",
       "  <thead>\n",
       "    <tr style=\"text-align: right;\">\n",
       "      <th></th>\n",
       "      <th>0</th>\n",
       "      <th>1</th>\n",
       "      <th>2</th>\n",
       "      <th>3</th>\n",
       "      <th>4</th>\n",
       "      <th>5</th>\n",
       "      <th>6</th>\n",
       "      <th>7</th>\n",
       "      <th>8</th>\n",
       "      <th>9</th>\n",
       "      <th>10</th>\n",
       "      <th>11</th>\n",
       "      <th>12</th>\n",
       "      <th>13</th>\n",
       "    </tr>\n",
       "  </thead>\n",
       "  <tbody>\n",
       "    <tr>\n",
       "      <th>0</th>\n",
       "      <td>-0.443723</td>\n",
       "      <td>-0.034609</td>\n",
       "      <td>-0.019945</td>\n",
       "      <td>-0.036814</td>\n",
       "      <td>-0.607319</td>\n",
       "      <td>-0.164873</td>\n",
       "      <td>0.523187</td>\n",
       "      <td>-0.252821</td>\n",
       "      <td>-0.299733</td>\n",
       "      <td>0.273318</td>\n",
       "      <td>0.624771</td>\n",
       "      <td>0.237494</td>\n",
       "      <td>0.0</td>\n",
       "      <td>0.0</td>\n",
       "    </tr>\n",
       "    <tr>\n",
       "      <th>1</th>\n",
       "      <td>0.011761</td>\n",
       "      <td>-0.840963</td>\n",
       "      <td>0.522711</td>\n",
       "      <td>0.702957</td>\n",
       "      <td>0.155245</td>\n",
       "      <td>-0.123634</td>\n",
       "      <td>-1.470146</td>\n",
       "      <td>-0.288210</td>\n",
       "      <td>-0.349810</td>\n",
       "      <td>-0.314373</td>\n",
       "      <td>-0.495444</td>\n",
       "      <td>-1.071698</td>\n",
       "      <td>1.0</td>\n",
       "      <td>0.0</td>\n",
       "    </tr>\n",
       "    <tr>\n",
       "      <th>2</th>\n",
       "      <td>0.442109</td>\n",
       "      <td>1.631825</td>\n",
       "      <td>-1.839474</td>\n",
       "      <td>0.340529</td>\n",
       "      <td>-1.192893</td>\n",
       "      <td>0.355144</td>\n",
       "      <td>0.231882</td>\n",
       "      <td>-0.693089</td>\n",
       "      <td>-1.748800</td>\n",
       "      <td>1.148612</td>\n",
       "      <td>-0.633124</td>\n",
       "      <td>1.743149</td>\n",
       "      <td>34.0</td>\n",
       "      <td>2.0</td>\n",
       "    </tr>\n",
       "    <tr>\n",
       "      <th>3</th>\n",
       "      <td>0.624841</td>\n",
       "      <td>-0.611956</td>\n",
       "      <td>-0.335367</td>\n",
       "      <td>-0.981379</td>\n",
       "      <td>0.409087</td>\n",
       "      <td>-0.632022</td>\n",
       "      <td>2.140804</td>\n",
       "      <td>0.110192</td>\n",
       "      <td>-1.174291</td>\n",
       "      <td>-2.841505</td>\n",
       "      <td>-0.363183</td>\n",
       "      <td>-0.865092</td>\n",
       "      <td>9.0</td>\n",
       "      <td>0.0</td>\n",
       "    </tr>\n",
       "    <tr>\n",
       "      <th>4</th>\n",
       "      <td>1.244371</td>\n",
       "      <td>-0.184288</td>\n",
       "      <td>-0.187585</td>\n",
       "      <td>-1.069148</td>\n",
       "      <td>-0.061790</td>\n",
       "      <td>-0.155677</td>\n",
       "      <td>-1.324641</td>\n",
       "      <td>-0.694930</td>\n",
       "      <td>-0.139073</td>\n",
       "      <td>0.879568</td>\n",
       "      <td>1.006352</td>\n",
       "      <td>0.748075</td>\n",
       "      <td>2.0</td>\n",
       "      <td>0.0</td>\n",
       "    </tr>\n",
       "  </tbody>\n",
       "</table>\n",
       "</div>"
      ],
      "text/plain": [
       "          0         1         2         3         4         5         6  \\\n",
       "0 -0.443723 -0.034609 -0.019945 -0.036814 -0.607319 -0.164873  0.523187   \n",
       "1  0.011761 -0.840963  0.522711  0.702957  0.155245 -0.123634 -1.470146   \n",
       "2  0.442109  1.631825 -1.839474  0.340529 -1.192893  0.355144  0.231882   \n",
       "3  0.624841 -0.611956 -0.335367 -0.981379  0.409087 -0.632022  2.140804   \n",
       "4  1.244371 -0.184288 -0.187585 -1.069148 -0.061790 -0.155677 -1.324641   \n",
       "\n",
       "          7         8         9        10        11    12   13  \n",
       "0 -0.252821 -0.299733  0.273318  0.624771  0.237494   0.0  0.0  \n",
       "1 -0.288210 -0.349810 -0.314373 -0.495444 -1.071698   1.0  0.0  \n",
       "2 -0.693089 -1.748800  1.148612 -0.633124  1.743149  34.0  2.0  \n",
       "3  0.110192 -1.174291 -2.841505 -0.363183 -0.865092   9.0  0.0  \n",
       "4 -0.694930 -0.139073  0.879568  1.006352  0.748075   2.0  0.0  "
      ]
     },
     "execution_count": 31,
     "metadata": {},
     "output_type": "execute_result"
    }
   ],
   "source": [
    "import pandas as pd\n",
    "pd.DataFrame(np.hstack((data, time, label))).head()"
   ]
  },
  {
   "cell_type": "markdown",
   "metadata": {},
   "source": [
    "### Split the data into training set and test set"
   ]
  },
  {
   "cell_type": "code",
   "execution_count": 32,
   "metadata": {},
   "outputs": [],
   "source": [
    "(tr_data, te_data, tr_time, te_time, tr_label, te_label,\n",
    " tr_mask1, te_mask1, tr_mask2, te_mask2) = train_test_split(data, time, label, mask1, mask2,\n",
    "                test_size=0.20, random_state=0)"
   ]
  },
  {
   "cell_type": "markdown",
   "metadata": {},
   "source": [
    "### Network settings "
   ]
  },
  {
   "cell_type": "code",
   "execution_count": 33,
   "metadata": {},
   "outputs": [],
   "source": [
    "input_dims = {\n",
    "    'x_dim':x_dim,\n",
    "    'num_event': num_event,\n",
    "    'num_category':num_category\n",
    "}\n",
    "settings = {\n",
    "    'h_dim_shared':10,\n",
    "    'h_dim_CS':5,\n",
    "    'num_layers_shared':10,\n",
    "    'num_layers_CS':5,\n",
    "    'activation':tf.nn.relu,\n",
    "    'initial_weight': tf.contrib.layers.xavier_initializer()\n",
    "}"
   ]
  },
  {
   "cell_type": "markdown",
   "metadata": {},
   "source": [
    "The loss function includes two parts: the negative log partial likelihood and ranking loss.\n",
    "$$\n",
    "\\operatorname { loss } _ { L } = - \\sum _ { i = 1 } ^ { N } \\left[ D _ { i } \\log \\left( y _ { e _ { i } } \\left( \\mathbf { x } _ { i } \\right) \\right) + \\left( 1 - D _ { i } \\right) \\log \\left( \\hat { S } \\left[ T _ { i } | x _ { i } \\right] \\right) \\right]\n",
    "$$\n",
    "\n",
    "$$\n",
    "\\operatorname { loss } _ { \\mathrm { rank } } = \\sum _ { i , j } D _ { i } \\mathbb { 1 } \\left\\{ T _ { i } < T _ { j } \\right\\} \\exp \\left( \\frac { \\hat { S } \\left( T _ { i } | \\mathbf { x } _ { i } \\right) - \\hat { S } \\left( T _ { i } | \\mathbf { x } _ { j } \\right) } { \\sigma } \\right)\n",
    "$$\n",
    "\n",
    "$$\n",
    "\\text{loss} = \\alpha \\text{loss}_{L} + (1-\\alpha) \\text{loss}_{\\text{rank}}.\n",
    "$$"
   ]
  },
  {
   "cell_type": "markdown",
   "metadata": {},
   "source": [
    "### Start a session"
   ]
  },
  {
   "cell_type": "code",
   "execution_count": 35,
   "metadata": {},
   "outputs": [],
   "source": [
    "tf.reset_default_graph()\n",
    "config = tf.ConfigProto()\n",
    "sess = tf.Session(config=config)\n",
    "model = deephit.DeepHit(sess, 'DeepHit', input_dims, settings)\n",
    "sess.run(tf.global_variables_initializer())"
   ]
  },
  {
   "cell_type": "markdown",
   "metadata": {},
   "source": [
    "### Train the neural network and get corresponding metric\n",
    "Metrics inludes cause-specific concordance index and Brier score\n",
    "$$\n",
    "C ^ { \\mathrm { td } } = \\mathrm { P } \\left\\{ \\hat { S } \\left( T _ { i } | \\mathbf { x } _ { i } \\right) < \\hat { S } \\left( T _ { i } | \\mathbf { x } _ { j } \\right) | T _ { i } < T _ { j } , D _ { i } = 1 \\right\\}\n",
    "$$\n",
    "\n",
    "$$\n",
    "\\mathrm { BS } ( t ) = \\frac { 1 } { N } \\sum _ { i = 1 } ^ { N } \\left[ \\frac { \\hat { S } \\left( t | \\mathbf { x } _ { i } \\right) ^ { 2 } \\mathbb { 1 } \\left\\{ T _ { i } \\leq t , D _ { i } = 1 \\right\\} } { \\hat { G } \\left( T _ { i } \\right) } + \\frac { \\left( 1 - \\hat { S } \\left( t | \\mathbf { x } _ { i } \\right) \\right) ^ { 2 } \\mathbb { 1 } \\left\\{ T _ { i } > t \\right\\} } { \\hat { G } ( t ) } \\right].\n",
    "$$"
   ]
  },
  {
   "cell_type": "code",
   "execution_count": 36,
   "metadata": {},
   "outputs": [],
   "source": [
    "pred = model.predict(te_data)\n",
    "\n",
    "c_index = np.zeros([num_event, len(eval_times)])\n",
    "brier_socre = np.zeros([num_event, len(eval_times)])\n",
    "\n",
    "for t, time in enumerate(eval_times):\n",
    "    eval_horizon = int(time)\n",
    "    if eval_horizon >= num_category:\n",
    "        print('ERROR: evaluation horizon is out of range')\n",
    "        c_index[:, t]  = -1\n",
    "        brier_socre[:, t] = -1\n",
    "    else:\n",
    "        risk = np.sum(pred[:, :, :(eval_horizon + 1)], axis=2)\n",
    "        for k in range(num_event):\n",
    "            c_index[k, t] = c_index_deephit(risk[:, k], \n",
    "                                            te_time,(te_label[:, 0] == k + 1).astype(int), \n",
    "                                            eval_horizon)\n",
    "            brier_socre[k, t] = brier_score(risk[:, k], \n",
    "                                        te_time,(te_label[:, 0] == k + 1).astype(int),\n",
    "                                        eval_horizon)"
   ]
  },
  {
   "cell_type": "code",
   "execution_count": 10,
   "metadata": {},
   "outputs": [
    {
     "data": {
      "text/plain": [
       "array([[0.48903082, 0.49261316, 0.50063936],\n",
       "       [0.50526229, 0.51791122, 0.52382519]])"
      ]
     },
     "execution_count": 10,
     "metadata": {},
     "output_type": "execute_result"
    }
   ],
   "source": [
    "c_index"
   ]
  },
  {
   "cell_type": "code",
   "execution_count": 13,
   "metadata": {},
   "outputs": [
    {
     "data": {
      "text/plain": [
       "array([[0.15170425, 0.17885536, 0.18831516],\n",
       "       [0.1465261 , 0.17281726, 0.18209337]])"
      ]
     },
     "execution_count": 13,
     "metadata": {},
     "output_type": "execute_result"
    }
   ],
   "source": [
    "brier_socre"
   ]
  }
 ],
 "metadata": {
  "kernelspec": {
   "display_name": "Python 3.7.0 64-bit ('env': venv)",
   "language": "python",
   "name": "python37064bitenvvenve18b12ff12464bb7af1b61b83b406c65"
  },
  "language_info": {
   "codemirror_mode": {
    "name": "ipython",
    "version": 3
   },
   "file_extension": ".py",
   "mimetype": "text/x-python",
   "name": "python",
   "nbconvert_exporter": "python",
   "pygments_lexer": "ipython3",
   "version": "3.7.0"
  },
  "latex_envs": {
   "LaTeX_envs_menu_present": true,
   "autoclose": false,
   "autocomplete": true,
   "bibliofile": "biblio.bib",
   "cite_by": "apalike",
   "current_citInitial": 1,
   "eqLabelWithNumbers": true,
   "eqNumInitial": 1,
   "hotkeys": {
    "equation": "Ctrl-E",
    "itemize": "Ctrl-I"
   },
   "labels_anchors": false,
   "latex_user_defs": false,
   "report_style_numbering": false,
   "user_envs_cfg": false
  }
 },
 "nbformat": 4,
 "nbformat_minor": 2
}
